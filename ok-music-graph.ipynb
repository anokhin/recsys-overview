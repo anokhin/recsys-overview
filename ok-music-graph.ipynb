{
 "cells": [
  {
   "cell_type": "code",
   "execution_count": 11,
   "id": "d0c09db2-fb77-446e-b43a-55fdac2220b7",
   "metadata": {},
   "outputs": [],
   "source": [
    "import os \n",
    "import re\n",
    "import transliterate\n",
    "\n",
    "import pandas as pd\n",
    "import networkx as nx"
   ]
  },
  {
   "cell_type": "code",
   "execution_count": 3,
   "id": "d744c0ee-6a1c-47f9-8f29-14fad100ecfe",
   "metadata": {},
   "outputs": [],
   "source": [
    "DATA_DIR = \"/Users/n.anokhin/Documents/data/recsys-overview/\""
   ]
  },
  {
   "cell_type": "code",
   "execution_count": 4,
   "id": "729e5813-2785-45ad-9be8-5b00c4de18bb",
   "metadata": {},
   "outputs": [
    {
     "data": {
      "text/html": [
       "<div>\n",
       "<style scoped>\n",
       "    .dataframe tbody tr th:only-of-type {\n",
       "        vertical-align: middle;\n",
       "    }\n",
       "\n",
       "    .dataframe tbody tr th {\n",
       "        vertical-align: top;\n",
       "    }\n",
       "\n",
       "    .dataframe thead th {\n",
       "        text-align: right;\n",
       "    }\n",
       "</style>\n",
       "<table border=\"1\" class=\"dataframe\">\n",
       "  <thead>\n",
       "    <tr style=\"text-align: right;\">\n",
       "      <th></th>\n",
       "      <th>name</th>\n",
       "      <th>genre</th>\n",
       "      <th>artistId</th>\n",
       "    </tr>\n",
       "  </thead>\n",
       "  <tbody>\n",
       "    <tr>\n",
       "      <th>0</th>\n",
       "      <td>DJ LAVRUSHKIN &amp; EDDIE G</td>\n",
       "      <td>Не указан</td>\n",
       "      <td>122882853519956</td>\n",
       "    </tr>\n",
       "    <tr>\n",
       "      <th>1</th>\n",
       "      <td>Edenbridge</td>\n",
       "      <td>Power Metal</td>\n",
       "      <td>122891263398557</td>\n",
       "    </tr>\n",
       "    <tr>\n",
       "      <th>2</th>\n",
       "      <td>Sergio</td>\n",
       "      <td>Не указан</td>\n",
       "      <td>26674525905474</td>\n",
       "    </tr>\n",
       "  </tbody>\n",
       "</table>\n",
       "</div>"
      ],
      "text/plain": [
       "                      name        genre         artistId\n",
       "0  DJ LAVRUSHKIN & EDDIE G    Не указан  122882853519956\n",
       "1               Edenbridge  Power Metal  122891263398557\n",
       "2                   Sergio    Не указан   26674525905474"
      ]
     },
     "execution_count": 4,
     "metadata": {},
     "output_type": "execute_result"
    }
   ],
   "source": [
    "nodes = pd.read_parquet(os.path.join(DATA_DIR, \"nodes.parquet\"))\n",
    "\n",
    "nodes.head(3)"
   ]
  },
  {
   "cell_type": "code",
   "execution_count": 5,
   "id": "615bc042-e375-4752-8e7c-c31d8b5548fd",
   "metadata": {},
   "outputs": [
    {
     "data": {
      "text/html": [
       "<div>\n",
       "<style scoped>\n",
       "    .dataframe tbody tr th:only-of-type {\n",
       "        vertical-align: middle;\n",
       "    }\n",
       "\n",
       "    .dataframe tbody tr th {\n",
       "        vertical-align: top;\n",
       "    }\n",
       "\n",
       "    .dataframe thead th {\n",
       "        text-align: right;\n",
       "    }\n",
       "</style>\n",
       "<table border=\"1\" class=\"dataframe\">\n",
       "  <thead>\n",
       "    <tr style=\"text-align: right;\">\n",
       "      <th></th>\n",
       "      <th>sourceId</th>\n",
       "      <th>destinationId</th>\n",
       "      <th>weight</th>\n",
       "    </tr>\n",
       "  </thead>\n",
       "  <tbody>\n",
       "    <tr>\n",
       "      <th>0</th>\n",
       "      <td>7425824682567</td>\n",
       "      <td>7433490145954</td>\n",
       "      <td>0.571782</td>\n",
       "    </tr>\n",
       "    <tr>\n",
       "      <th>1</th>\n",
       "      <td>7430282658492</td>\n",
       "      <td>122882867139153</td>\n",
       "      <td>0.454767</td>\n",
       "    </tr>\n",
       "    <tr>\n",
       "      <th>2</th>\n",
       "      <td>7458507653680</td>\n",
       "      <td>122882938397254</td>\n",
       "      <td>0.460047</td>\n",
       "    </tr>\n",
       "  </tbody>\n",
       "</table>\n",
       "</div>"
      ],
      "text/plain": [
       "        sourceId    destinationId    weight\n",
       "0  7425824682567    7433490145954  0.571782\n",
       "1  7430282658492  122882867139153  0.454767\n",
       "2  7458507653680  122882938397254  0.460047"
      ]
     },
     "execution_count": 5,
     "metadata": {},
     "output_type": "execute_result"
    }
   ],
   "source": [
    "edges = pd.read_parquet(os.path.join(DATA_DIR, \"edges.parquet\"))\n",
    "\n",
    "edges.head(3)"
   ]
  },
  {
   "cell_type": "code",
   "execution_count": 12,
   "id": "d447396c-b466-443f-b3fd-fc06bc7d7f59",
   "metadata": {},
   "outputs": [],
   "source": [
    "def normalize(string):\n",
    "    transliterated = transliterate.translit(string, \"ru\", reversed=True)\n",
    "    return re.sub(r'[^a-zA-Z0-9]', '', transliterated)\n",
    "    \n",
    "\n",
    "graph = nx.Graph()\n",
    "\n",
    "for _, node in nodes.iterrows():\n",
    "    graph.add_node(\n",
    "        node[\"artistId\"], \n",
    "        **{\n",
    "            \"name\": normalize(node[\"name\"]), \n",
    "            \"genre\": normalize(node[\"genre\"]),\n",
    "        },\n",
    "    )\n",
    "    \n",
    "graph.add_edges_from([(edge.sourceId, edge.destinationId) for edge in edges.itertuples()])"
   ]
  },
  {
   "cell_type": "code",
   "execution_count": 13,
   "id": "50c6d696-73ea-4223-ad68-edaa627f1a7a",
   "metadata": {},
   "outputs": [],
   "source": [
    "nx.write_gexf(graph, os.path.join(DATA_DIR, \"ok-music.gexf\"))"
   ]
  },
  {
   "cell_type": "code",
   "execution_count": null,
   "id": "0bc25fa6-f6be-4d1f-abd7-8a5b151b2d88",
   "metadata": {},
   "outputs": [],
   "source": []
  }
 ],
 "metadata": {
  "kernelspec": {
   "display_name": "Python 3 (ipykernel)",
   "language": "python",
   "name": "python3"
  },
  "language_info": {
   "codemirror_mode": {
    "name": "ipython",
    "version": 3
   },
   "file_extension": ".py",
   "mimetype": "text/x-python",
   "name": "python",
   "nbconvert_exporter": "python",
   "pygments_lexer": "ipython3",
   "version": "3.8.0"
  }
 },
 "nbformat": 4,
 "nbformat_minor": 5
}
